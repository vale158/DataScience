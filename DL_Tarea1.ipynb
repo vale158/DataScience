{
  "nbformat": 4,
  "nbformat_minor": 0,
  "metadata": {
    "colab": {
      "name": "DL_Tarea1.ipynb",
      "provenance": [],
      "include_colab_link": true
    },
    "kernelspec": {
      "display_name": "Python 3",
      "language": "python",
      "name": "python3"
    },
    "language_info": {
      "codemirror_mode": {
        "name": "ipython",
        "version": 3
      },
      "file_extension": ".py",
      "mimetype": "text/x-python",
      "name": "python",
      "nbconvert_exporter": "python",
      "pygments_lexer": "ipython3",
      "version": "3.8.3"
    }
  },
  "cells": [
    {
      "cell_type": "markdown",
      "metadata": {
        "id": "view-in-github",
        "colab_type": "text"
      },
      "source": [
        "<a href=\"https://colab.research.google.com/github/vale158/DataScience/blob/master/DL_Tarea1.ipynb\" target=\"_parent\"><img src=\"https://colab.research.google.com/assets/colab-badge.svg\" alt=\"Open In Colab\"/></a>"
      ]
    },
    {
      "cell_type": "markdown",
      "metadata": {
        "id": "luuXVmoTdYt2"
      },
      "source": [
        "## Tarea 1. Aprendizaje Profundo\n",
        "\n",
        "Sonia López Rito/ 183349\n",
        "\n",
        "---\n",
        "**Objetivo:** Entrenar un modelo MLP para predecir la salida de una compuerta lógica dadas dos entradas binarias (XOR).\n",
        "\n",
        "Para simplificar  el problema usamos entradas de valores reales en lugar de entradas binarias. Cuando los valores de entrada tengan el mismo signo, la salida debe ser uno, si los valores de entrada tienen signo distinto, la salida debe ser cero."
      ]
    },
    {
      "cell_type": "code",
      "metadata": {
        "colab": {
          "base_uri": "https://localhost:8080/",
          "height": 282
        },
        "id": "xM66yNP0ccMw",
        "outputId": "2ca860bd-50fd-4a3c-f148-a3026acbab41"
      },
      "source": [
        "import numpy as np\n",
        "\n",
        "%matplotlib inline\n",
        "import matplotlib.pyplot as plt\n",
        "\n",
        "# Entrada del perceptron multicapa  (MLP)\n",
        "X = np.array([[1,1], [1,-1], [-1,-1], [-1,1]])\n",
        "# Salida del MLP\n",
        "y = np.array([[0], [1], [0], [1]])\n",
        "\n",
        "# Gráfica del training data\n",
        "fig, ax = plt.subplots()\n",
        "for i in range(y.shape[0]):\n",
        "  if y[i][0] == 0:\n",
        "    marker = 'ro'\n",
        "  else:\n",
        "    marker = 'bo'\n",
        "  ax.plot(X[i][0], X[i][1], marker)\n",
        "ax.axhline(y=0, color='k')\n",
        "ax.axvline(x=0, color='k')"
      ],
      "execution_count": null,
      "outputs": [
        {
          "output_type": "execute_result",
          "data": {
            "text/plain": [
              "<matplotlib.lines.Line2D at 0x7f48c9b6de10>"
            ]
          },
          "metadata": {
            "tags": []
          },
          "execution_count": 6
        },
        {
          "output_type": "display_data",
          "data": {
            "image/png": "[encoded data removed]",
            "text/plain": [
              "<Figure size 432x288 with 1 Axes>"
            ]
          },
          "metadata": {
            "tags": [],
            "needs_background": "light"
          }
        }
      ]
    },
    {
      "cell_type": "markdown",
      "metadata": {
        "id": "mDsAe6j1koco"
      },
      "source": [
        "Dado que estos puntos no son separables linealmente, no podemos encontrar una línea que clasifique a los puntos correctamente, construiremos un perceptron multicapa no lineal para hacer predicciones.\n",
        "\n",
        "Definimos la función de activación, en este caso será la función sigmoide"
      ]
    },
    {
      "cell_type": "code",
      "metadata": {
        "id": "o24kLDLJk0ka"
      },
      "source": [
        "# Función Sigmoide\n",
        "def sigmoid(x):\n",
        "    return 1 / (1 + np.exp(-x))\n",
        "\n",
        "# Derivada de la función Sigmoide\n",
        "def derivative_sigmoid(x):\n",
        "    return x * (1 - x)"
      ],
      "execution_count": null,
      "outputs": []
    },
    {
      "cell_type": "markdown",
      "metadata": {
        "id": "y_xAIIFCnOj0"
      },
      "source": [
        "El MLP consiste de una capa oculta y una capa de salida para mapear el vector oculto a los valores de salida.\n",
        "\n",
        "Primero inicializamos los pesos y el sesgo de cada capa así como las épocas de entrenamiento y la tasa de aprendizaje."
      ]
    },
    {
      "cell_type": "code",
      "metadata": {
        "id": "qfukE1dRnPc5"
      },
      "source": [
        "epoch = 5000 \n",
        "learning_rate = 0.1\n",
        "\n",
        "# Dimensión de cada capa\n",
        "d_in = X.shape[1] # Carácteristicas\n",
        "d_h = 3   # Capa oculta\n",
        "d_out = 1 # Capa de salida\n",
        "\n",
        "# Pesos y sesgo \n",
        "wh = np.random.uniform(size=(d_in, d_h))\n",
        "bh = np.random.uniform(size=(1, d_h))\n",
        "wout = np.random.uniform(size=(d_h, d_out))\n",
        "bout = np.random.uniform(size=(1, d_out))"
      ],
      "execution_count": null,
      "outputs": []
    },
    {
      "cell_type": "markdown",
      "metadata": {
        "id": "8cXksajVqIRS"
      },
      "source": [
        "Para cada iteración de entrenamiento nos acercamos un paso para obtener el valor predecido y calcular la pérdida entre la predicción y el valor real. Usaremos la diferencia entre dos valores para como la función de pérdida. Entonces podemos calcular los gradientes y finalmente actualizar las ponderaciones y sesgos (bias)."
      ]
    },
    {
      "cell_type": "code",
      "metadata": {
        "colab": {
          "base_uri": "https://localhost:8080/"
        },
        "id": "21Ayb0aGqJWp",
        "outputId": "65707c5f-2669-4fa7-e9dd-de03b910dca9"
      },
      "source": [
        "for i in range(epoch):\n",
        "    # Forwardpass\n",
        "    h = sigmoid(X.dot(wh) + bh)\n",
        "    y_pred = sigmoid(h.dot(wout) + bout)\n",
        "    \n",
        "    # Función de pérdida\n",
        "    loss = (y_pred - y).sum()\n",
        "    if i % 500 == 0:\n",
        "        print('Epoch', i, ':', loss)\n",
        "\n",
        "    # Backpropagation \n",
        "    grad_y_pred = (y - y_pred) * derivative_sigmoid(y_pred)\n",
        "    grad_wout = h.T.dot(grad_y_pred)\n",
        "    grad_bout = np.sum(grad_y_pred, axis=0, keepdims=True)\n",
        "    grad_h = grad_y_pred.dot(wout.T) * derivative_sigmoid(h)\n",
        "    grad_wh = X.T.dot(grad_h)\n",
        "    grad_bh = np.sum(grad_h, axis=0, keepdims=True)\n",
        "\n",
        "    # Actualización de pesos y sesgo\n",
        "    wout += grad_wout * learning_rate\n",
        "    bout += grad_bout * learning_rate\n",
        "    wh += grad_wh * learning_rate\n",
        "    bh += grad_bh * learning_rate\n",
        "    \n",
        "print('Prediction of training data:')\n",
        "print(y_pred)"
      ],
      "execution_count": null,
      "outputs": [
        {
          "output_type": "stream",
          "text": [
            "Epoch 0 : 1.3738782577319841\n",
            "Epoch 500 : 0.013324441264700004\n",
            "Epoch 1000 : 0.04108653139490659\n",
            "Epoch 1500 : 0.0704150838117753\n",
            "Epoch 2000 : 0.021180472255469374\n",
            "Epoch 2500 : 0.024149511532678802\n",
            "Epoch 3000 : 0.021443771621126484\n",
            "Epoch 3500 : 0.018294752093744843\n",
            "Epoch 4000 : 0.015928912650717664\n",
            "Epoch 4500 : 0.014162613223383441\n",
            "Prediction of training data:\n",
            "[[0.06871203]\n",
            " [0.93242838]\n",
            " [0.07913578]\n",
            " [0.93252943]]\n"
          ],
          "name": "stdout"
        }
      ]
    },
    {
      "cell_type": "markdown",
      "metadata": {
        "id": "WNoaHSaWqbLK"
      },
      "source": [
        "Los valores predichos son cercanos a los datos de entrenamiento. Ya que son valores reales para obtener la salida binaria, podemos simplemente establecer el umbral de salida para decidir cual etiqueta podemos asignar."
      ]
    }
  ]
}